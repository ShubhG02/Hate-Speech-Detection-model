{
  "nbformat": 4,
  "nbformat_minor": 0,
  "metadata": {
    "colab": {
      "provenance": []
    },
    "kernelspec": {
      "name": "python3",
      "display_name": "Python 3"
    },
    "language_info": {
      "name": "python"
    }
  },
  "cells": [
    {
      "cell_type": "markdown",
      "source": [
        "1.1: Import Libraries"
      ],
      "metadata": {
        "id": "DzcTHrtOyKEJ"
      }
    },
    {
      "cell_type": "code",
      "execution_count": 1,
      "metadata": {
        "id": "R1Dff9e6xZt8"
      },
      "outputs": [],
      "source": [
        "import warnings\n",
        "\n",
        "import numpy as np\n",
        "import pandas as pd\n",
        "import seaborn as sns\n",
        "import matplotlib.pyplot as plt\n",
        "\n",
        "import re\n",
        "import nltk\n",
        "import string\n",
        "from nltk.text import Text\n"
      ]
    },
    {
      "cell_type": "markdown",
      "source": [
        "1.2: Import Dataset"
      ],
      "metadata": {
        "id": "s9ajSwbkyLgM"
      }
    },
    {
      "cell_type": "code",
      "source": [
        "df = pd.read_csv('Twitter Hate Speech.csv')\n",
        "df.tail()"
      ],
      "metadata": {
        "colab": {
          "base_uri": "https://localhost:8080/",
          "height": 206
        },
        "id": "sD402A_myNpP",
        "outputId": "d8a54738-f4b4-4297-e506-2da1d35ac1e9"
      },
      "execution_count": 2,
      "outputs": [
        {
          "output_type": "execute_result",
          "data": {
            "text/plain": [
              "          id  label                                              tweet\n",
              "31957  31958      0  ate @user isz that youuu?ðððððð...\n",
              "31958  31959      0    to see nina turner on the airwaves trying to...\n",
              "31959  31960      0  listening to sad songs on a monday morning otw...\n",
              "31960  31961      1  @user #sikh #temple vandalised in in #calgary,...\n",
              "31961  31962      0                   thank you @user for you follow  "
            ],
            "text/html": [
              "\n",
              "  <div id=\"df-e757e03d-a31e-4fa9-8d97-6572e9bd234f\">\n",
              "    <div class=\"colab-df-container\">\n",
              "      <div>\n",
              "<style scoped>\n",
              "    .dataframe tbody tr th:only-of-type {\n",
              "        vertical-align: middle;\n",
              "    }\n",
              "\n",
              "    .dataframe tbody tr th {\n",
              "        vertical-align: top;\n",
              "    }\n",
              "\n",
              "    .dataframe thead th {\n",
              "        text-align: right;\n",
              "    }\n",
              "</style>\n",
              "<table border=\"1\" class=\"dataframe\">\n",
              "  <thead>\n",
              "    <tr style=\"text-align: right;\">\n",
              "      <th></th>\n",
              "      <th>id</th>\n",
              "      <th>label</th>\n",
              "      <th>tweet</th>\n",
              "    </tr>\n",
              "  </thead>\n",
              "  <tbody>\n",
              "    <tr>\n",
              "      <th>31957</th>\n",
              "      <td>31958</td>\n",
              "      <td>0</td>\n",
              "      <td>ate @user isz that youuu?ðððððð...</td>\n",
              "    </tr>\n",
              "    <tr>\n",
              "      <th>31958</th>\n",
              "      <td>31959</td>\n",
              "      <td>0</td>\n",
              "      <td>to see nina turner on the airwaves trying to...</td>\n",
              "    </tr>\n",
              "    <tr>\n",
              "      <th>31959</th>\n",
              "      <td>31960</td>\n",
              "      <td>0</td>\n",
              "      <td>listening to sad songs on a monday morning otw...</td>\n",
              "    </tr>\n",
              "    <tr>\n",
              "      <th>31960</th>\n",
              "      <td>31961</td>\n",
              "      <td>1</td>\n",
              "      <td>@user #sikh #temple vandalised in in #calgary,...</td>\n",
              "    </tr>\n",
              "    <tr>\n",
              "      <th>31961</th>\n",
              "      <td>31962</td>\n",
              "      <td>0</td>\n",
              "      <td>thank you @user for you follow</td>\n",
              "    </tr>\n",
              "  </tbody>\n",
              "</table>\n",
              "</div>\n",
              "      <button class=\"colab-df-convert\" onclick=\"convertToInteractive('df-e757e03d-a31e-4fa9-8d97-6572e9bd234f')\"\n",
              "              title=\"Convert this dataframe to an interactive table.\"\n",
              "              style=\"display:none;\">\n",
              "        \n",
              "  <svg xmlns=\"http://www.w3.org/2000/svg\" height=\"24px\"viewBox=\"0 0 24 24\"\n",
              "       width=\"24px\">\n",
              "    <path d=\"M0 0h24v24H0V0z\" fill=\"none\"/>\n",
              "    <path d=\"M18.56 5.44l.94 2.06.94-2.06 2.06-.94-2.06-.94-.94-2.06-.94 2.06-2.06.94zm-11 1L8.5 8.5l.94-2.06 2.06-.94-2.06-.94L8.5 2.5l-.94 2.06-2.06.94zm10 10l.94 2.06.94-2.06 2.06-.94-2.06-.94-.94-2.06-.94 2.06-2.06.94z\"/><path d=\"M17.41 7.96l-1.37-1.37c-.4-.4-.92-.59-1.43-.59-.52 0-1.04.2-1.43.59L10.3 9.45l-7.72 7.72c-.78.78-.78 2.05 0 2.83L4 21.41c.39.39.9.59 1.41.59.51 0 1.02-.2 1.41-.59l7.78-7.78 2.81-2.81c.8-.78.8-2.07 0-2.86zM5.41 20L4 18.59l7.72-7.72 1.47 1.35L5.41 20z\"/>\n",
              "  </svg>\n",
              "      </button>\n",
              "      \n",
              "  <style>\n",
              "    .colab-df-container {\n",
              "      display:flex;\n",
              "      flex-wrap:wrap;\n",
              "      gap: 12px;\n",
              "    }\n",
              "\n",
              "    .colab-df-convert {\n",
              "      background-color: #E8F0FE;\n",
              "      border: none;\n",
              "      border-radius: 50%;\n",
              "      cursor: pointer;\n",
              "      display: none;\n",
              "      fill: #1967D2;\n",
              "      height: 32px;\n",
              "      padding: 0 0 0 0;\n",
              "      width: 32px;\n",
              "    }\n",
              "\n",
              "    .colab-df-convert:hover {\n",
              "      background-color: #E2EBFA;\n",
              "      box-shadow: 0px 1px 2px rgba(60, 64, 67, 0.3), 0px 1px 3px 1px rgba(60, 64, 67, 0.15);\n",
              "      fill: #174EA6;\n",
              "    }\n",
              "\n",
              "    [theme=dark] .colab-df-convert {\n",
              "      background-color: #3B4455;\n",
              "      fill: #D2E3FC;\n",
              "    }\n",
              "\n",
              "    [theme=dark] .colab-df-convert:hover {\n",
              "      background-color: #434B5C;\n",
              "      box-shadow: 0px 1px 3px 1px rgba(0, 0, 0, 0.15);\n",
              "      filter: drop-shadow(0px 1px 2px rgba(0, 0, 0, 0.3));\n",
              "      fill: #FFFFFF;\n",
              "    }\n",
              "  </style>\n",
              "\n",
              "      <script>\n",
              "        const buttonEl =\n",
              "          document.querySelector('#df-e757e03d-a31e-4fa9-8d97-6572e9bd234f button.colab-df-convert');\n",
              "        buttonEl.style.display =\n",
              "          google.colab.kernel.accessAllowed ? 'block' : 'none';\n",
              "\n",
              "        async function convertToInteractive(key) {\n",
              "          const element = document.querySelector('#df-e757e03d-a31e-4fa9-8d97-6572e9bd234f');\n",
              "          const dataTable =\n",
              "            await google.colab.kernel.invokeFunction('convertToInteractive',\n",
              "                                                     [key], {});\n",
              "          if (!dataTable) return;\n",
              "\n",
              "          const docLinkHtml = 'Like what you see? Visit the ' +\n",
              "            '<a target=\"_blank\" href=https://colab.research.google.com/notebooks/data_table.ipynb>data table notebook</a>'\n",
              "            + ' to learn more about interactive tables.';\n",
              "          element.innerHTML = '';\n",
              "          dataTable['output_type'] = 'display_data';\n",
              "          await google.colab.output.renderOutput(dataTable, element);\n",
              "          const docLink = document.createElement('div');\n",
              "          docLink.innerHTML = docLinkHtml;\n",
              "          element.appendChild(docLink);\n",
              "        }\n",
              "      </script>\n",
              "    </div>\n",
              "  </div>\n",
              "  "
            ]
          },
          "metadata": {},
          "execution_count": 2
        }
      ]
    },
    {
      "cell_type": "markdown",
      "source": [
        "1.3 : Data Information\n",
        "\n",
        "1.3.1: How many numbers of observations and features"
      ],
      "metadata": {
        "id": "Oj7Nv7WQZipc"
      }
    },
    {
      "cell_type": "code",
      "source": [
        "print(f'Number of Observations: {df.shape[0]}')\n",
        "print(f'Number of Features: {df.shape[1]}')"
      ],
      "metadata": {
        "colab": {
          "base_uri": "https://localhost:8080/"
        },
        "id": "uMP0YHIeaFKG",
        "outputId": "54276cbc-0994-4073-cf09-b71eb8a7974b"
      },
      "execution_count": 3,
      "outputs": [
        {
          "output_type": "stream",
          "name": "stdout",
          "text": [
            "Number of Observations: 31962\n",
            "Number of Features: 3\n"
          ]
        }
      ]
    },
    {
      "cell_type": "code",
      "source": [
        "df.columns"
      ],
      "metadata": {
        "colab": {
          "base_uri": "https://localhost:8080/"
        },
        "id": "0fH_1FnfaP2i",
        "outputId": "f1acc694-1c02-41b1-a65a-6370cdc596b7"
      },
      "execution_count": 4,
      "outputs": [
        {
          "output_type": "execute_result",
          "data": {
            "text/plain": [
              "Index(['id', 'label', 'tweet'], dtype='object')"
            ]
          },
          "metadata": {},
          "execution_count": 4
        }
      ]
    },
    {
      "cell_type": "code",
      "source": [
        "df.dtypes"
      ],
      "metadata": {
        "colab": {
          "base_uri": "https://localhost:8080/"
        },
        "id": "-z50xXJ5aRtv",
        "outputId": "ac4789e3-d4b2-457d-9a28-a918dec28769"
      },
      "execution_count": 5,
      "outputs": [
        {
          "output_type": "execute_result",
          "data": {
            "text/plain": [
              "id        int64\n",
              "label     int64\n",
              "tweet    object\n",
              "dtype: object"
            ]
          },
          "metadata": {},
          "execution_count": 5
        }
      ]
    },
    {
      "cell_type": "code",
      "source": [
        "df.info()"
      ],
      "metadata": {
        "colab": {
          "base_uri": "https://localhost:8080/"
        },
        "id": "1hKri6o7aTOa",
        "outputId": "8212801f-c7d6-469c-e3a9-66b96c96e5fd"
      },
      "execution_count": 6,
      "outputs": [
        {
          "output_type": "stream",
          "name": "stdout",
          "text": [
            "<class 'pandas.core.frame.DataFrame'>\n",
            "RangeIndex: 31962 entries, 0 to 31961\n",
            "Data columns (total 3 columns):\n",
            " #   Column  Non-Null Count  Dtype \n",
            "---  ------  --------------  ----- \n",
            " 0   id      31962 non-null  int64 \n",
            " 1   label   31962 non-null  int64 \n",
            " 2   tweet   31962 non-null  object\n",
            "dtypes: int64(2), object(1)\n",
            "memory usage: 749.2+ KB\n"
          ]
        }
      ]
    },
    {
      "cell_type": "code",
      "source": [
        "df.size"
      ],
      "metadata": {
        "colab": {
          "base_uri": "https://localhost:8080/"
        },
        "id": "zFz5Qz51aU7u",
        "outputId": "41c4a06f-f858-450d-dae4-89df8e239c6e"
      },
      "execution_count": 7,
      "outputs": [
        {
          "output_type": "execute_result",
          "data": {
            "text/plain": [
              "95886"
            ]
          },
          "metadata": {},
          "execution_count": 7
        }
      ]
    },
    {
      "cell_type": "code",
      "source": [
        "# Predictor Attribute\n",
        "text = df.iloc[:, 1:]\n",
        "text.tail()"
      ],
      "metadata": {
        "colab": {
          "base_uri": "https://localhost:8080/",
          "height": 206
        },
        "id": "xqEb6kRzaW90",
        "outputId": "25853656-1d9a-44ce-b8df-6bce77020a02"
      },
      "execution_count": 8,
      "outputs": [
        {
          "output_type": "execute_result",
          "data": {
            "text/plain": [
              "       label                                              tweet\n",
              "31957      0  ate @user isz that youuu?ðððððð...\n",
              "31958      0    to see nina turner on the airwaves trying to...\n",
              "31959      0  listening to sad songs on a monday morning otw...\n",
              "31960      1  @user #sikh #temple vandalised in in #calgary,...\n",
              "31961      0                   thank you @user for you follow  "
            ],
            "text/html": [
              "\n",
              "  <div id=\"df-714cb54f-9617-44bd-ba5a-b51e25c2a6e6\">\n",
              "    <div class=\"colab-df-container\">\n",
              "      <div>\n",
              "<style scoped>\n",
              "    .dataframe tbody tr th:only-of-type {\n",
              "        vertical-align: middle;\n",
              "    }\n",
              "\n",
              "    .dataframe tbody tr th {\n",
              "        vertical-align: top;\n",
              "    }\n",
              "\n",
              "    .dataframe thead th {\n",
              "        text-align: right;\n",
              "    }\n",
              "</style>\n",
              "<table border=\"1\" class=\"dataframe\">\n",
              "  <thead>\n",
              "    <tr style=\"text-align: right;\">\n",
              "      <th></th>\n",
              "      <th>label</th>\n",
              "      <th>tweet</th>\n",
              "    </tr>\n",
              "  </thead>\n",
              "  <tbody>\n",
              "    <tr>\n",
              "      <th>31957</th>\n",
              "      <td>0</td>\n",
              "      <td>ate @user isz that youuu?ðððððð...</td>\n",
              "    </tr>\n",
              "    <tr>\n",
              "      <th>31958</th>\n",
              "      <td>0</td>\n",
              "      <td>to see nina turner on the airwaves trying to...</td>\n",
              "    </tr>\n",
              "    <tr>\n",
              "      <th>31959</th>\n",
              "      <td>0</td>\n",
              "      <td>listening to sad songs on a monday morning otw...</td>\n",
              "    </tr>\n",
              "    <tr>\n",
              "      <th>31960</th>\n",
              "      <td>1</td>\n",
              "      <td>@user #sikh #temple vandalised in in #calgary,...</td>\n",
              "    </tr>\n",
              "    <tr>\n",
              "      <th>31961</th>\n",
              "      <td>0</td>\n",
              "      <td>thank you @user for you follow</td>\n",
              "    </tr>\n",
              "  </tbody>\n",
              "</table>\n",
              "</div>\n",
              "      <button class=\"colab-df-convert\" onclick=\"convertToInteractive('df-714cb54f-9617-44bd-ba5a-b51e25c2a6e6')\"\n",
              "              title=\"Convert this dataframe to an interactive table.\"\n",
              "              style=\"display:none;\">\n",
              "        \n",
              "  <svg xmlns=\"http://www.w3.org/2000/svg\" height=\"24px\"viewBox=\"0 0 24 24\"\n",
              "       width=\"24px\">\n",
              "    <path d=\"M0 0h24v24H0V0z\" fill=\"none\"/>\n",
              "    <path d=\"M18.56 5.44l.94 2.06.94-2.06 2.06-.94-2.06-.94-.94-2.06-.94 2.06-2.06.94zm-11 1L8.5 8.5l.94-2.06 2.06-.94-2.06-.94L8.5 2.5l-.94 2.06-2.06.94zm10 10l.94 2.06.94-2.06 2.06-.94-2.06-.94-.94-2.06-.94 2.06-2.06.94z\"/><path d=\"M17.41 7.96l-1.37-1.37c-.4-.4-.92-.59-1.43-.59-.52 0-1.04.2-1.43.59L10.3 9.45l-7.72 7.72c-.78.78-.78 2.05 0 2.83L4 21.41c.39.39.9.59 1.41.59.51 0 1.02-.2 1.41-.59l7.78-7.78 2.81-2.81c.8-.78.8-2.07 0-2.86zM5.41 20L4 18.59l7.72-7.72 1.47 1.35L5.41 20z\"/>\n",
              "  </svg>\n",
              "      </button>\n",
              "      \n",
              "  <style>\n",
              "    .colab-df-container {\n",
              "      display:flex;\n",
              "      flex-wrap:wrap;\n",
              "      gap: 12px;\n",
              "    }\n",
              "\n",
              "    .colab-df-convert {\n",
              "      background-color: #E8F0FE;\n",
              "      border: none;\n",
              "      border-radius: 50%;\n",
              "      cursor: pointer;\n",
              "      display: none;\n",
              "      fill: #1967D2;\n",
              "      height: 32px;\n",
              "      padding: 0 0 0 0;\n",
              "      width: 32px;\n",
              "    }\n",
              "\n",
              "    .colab-df-convert:hover {\n",
              "      background-color: #E2EBFA;\n",
              "      box-shadow: 0px 1px 2px rgba(60, 64, 67, 0.3), 0px 1px 3px 1px rgba(60, 64, 67, 0.15);\n",
              "      fill: #174EA6;\n",
              "    }\n",
              "\n",
              "    [theme=dark] .colab-df-convert {\n",
              "      background-color: #3B4455;\n",
              "      fill: #D2E3FC;\n",
              "    }\n",
              "\n",
              "    [theme=dark] .colab-df-convert:hover {\n",
              "      background-color: #434B5C;\n",
              "      box-shadow: 0px 1px 3px 1px rgba(0, 0, 0, 0.15);\n",
              "      filter: drop-shadow(0px 1px 2px rgba(0, 0, 0, 0.3));\n",
              "      fill: #FFFFFF;\n",
              "    }\n",
              "  </style>\n",
              "\n",
              "      <script>\n",
              "        const buttonEl =\n",
              "          document.querySelector('#df-714cb54f-9617-44bd-ba5a-b51e25c2a6e6 button.colab-df-convert');\n",
              "        buttonEl.style.display =\n",
              "          google.colab.kernel.accessAllowed ? 'block' : 'none';\n",
              "\n",
              "        async function convertToInteractive(key) {\n",
              "          const element = document.querySelector('#df-714cb54f-9617-44bd-ba5a-b51e25c2a6e6');\n",
              "          const dataTable =\n",
              "            await google.colab.kernel.invokeFunction('convertToInteractive',\n",
              "                                                     [key], {});\n",
              "          if (!dataTable) return;\n",
              "\n",
              "          const docLinkHtml = 'Like what you see? Visit the ' +\n",
              "            '<a target=\"_blank\" href=https://colab.research.google.com/notebooks/data_table.ipynb>data table notebook</a>'\n",
              "            + ' to learn more about interactive tables.';\n",
              "          element.innerHTML = '';\n",
              "          dataTable['output_type'] = 'display_data';\n",
              "          await google.colab.output.renderOutput(dataTable, element);\n",
              "          const docLink = document.createElement('div');\n",
              "          docLink.innerHTML = docLinkHtml;\n",
              "          element.appendChild(docLink);\n",
              "        }\n",
              "      </script>\n",
              "    </div>\n",
              "  </div>\n",
              "  "
            ]
          },
          "metadata": {},
          "execution_count": 8
        }
      ]
    },
    {
      "cell_type": "code",
      "source": [
        "# target Attribute\n",
        "label = df.iloc[:, 0:1]\n",
        "label.tail()"
      ],
      "metadata": {
        "colab": {
          "base_uri": "https://localhost:8080/",
          "height": 206
        },
        "id": "P6ubgkaXaY52",
        "outputId": "de8d6b3c-7946-42a0-b7cd-5414a186c563"
      },
      "execution_count": 9,
      "outputs": [
        {
          "output_type": "execute_result",
          "data": {
            "text/plain": [
              "          id\n",
              "31957  31958\n",
              "31958  31959\n",
              "31959  31960\n",
              "31960  31961\n",
              "31961  31962"
            ],
            "text/html": [
              "\n",
              "  <div id=\"df-e5d3b1bf-30f0-4930-aa3a-1b1e0eb04b32\">\n",
              "    <div class=\"colab-df-container\">\n",
              "      <div>\n",
              "<style scoped>\n",
              "    .dataframe tbody tr th:only-of-type {\n",
              "        vertical-align: middle;\n",
              "    }\n",
              "\n",
              "    .dataframe tbody tr th {\n",
              "        vertical-align: top;\n",
              "    }\n",
              "\n",
              "    .dataframe thead th {\n",
              "        text-align: right;\n",
              "    }\n",
              "</style>\n",
              "<table border=\"1\" class=\"dataframe\">\n",
              "  <thead>\n",
              "    <tr style=\"text-align: right;\">\n",
              "      <th></th>\n",
              "      <th>id</th>\n",
              "    </tr>\n",
              "  </thead>\n",
              "  <tbody>\n",
              "    <tr>\n",
              "      <th>31957</th>\n",
              "      <td>31958</td>\n",
              "    </tr>\n",
              "    <tr>\n",
              "      <th>31958</th>\n",
              "      <td>31959</td>\n",
              "    </tr>\n",
              "    <tr>\n",
              "      <th>31959</th>\n",
              "      <td>31960</td>\n",
              "    </tr>\n",
              "    <tr>\n",
              "      <th>31960</th>\n",
              "      <td>31961</td>\n",
              "    </tr>\n",
              "    <tr>\n",
              "      <th>31961</th>\n",
              "      <td>31962</td>\n",
              "    </tr>\n",
              "  </tbody>\n",
              "</table>\n",
              "</div>\n",
              "      <button class=\"colab-df-convert\" onclick=\"convertToInteractive('df-e5d3b1bf-30f0-4930-aa3a-1b1e0eb04b32')\"\n",
              "              title=\"Convert this dataframe to an interactive table.\"\n",
              "              style=\"display:none;\">\n",
              "        \n",
              "  <svg xmlns=\"http://www.w3.org/2000/svg\" height=\"24px\"viewBox=\"0 0 24 24\"\n",
              "       width=\"24px\">\n",
              "    <path d=\"M0 0h24v24H0V0z\" fill=\"none\"/>\n",
              "    <path d=\"M18.56 5.44l.94 2.06.94-2.06 2.06-.94-2.06-.94-.94-2.06-.94 2.06-2.06.94zm-11 1L8.5 8.5l.94-2.06 2.06-.94-2.06-.94L8.5 2.5l-.94 2.06-2.06.94zm10 10l.94 2.06.94-2.06 2.06-.94-2.06-.94-.94-2.06-.94 2.06-2.06.94z\"/><path d=\"M17.41 7.96l-1.37-1.37c-.4-.4-.92-.59-1.43-.59-.52 0-1.04.2-1.43.59L10.3 9.45l-7.72 7.72c-.78.78-.78 2.05 0 2.83L4 21.41c.39.39.9.59 1.41.59.51 0 1.02-.2 1.41-.59l7.78-7.78 2.81-2.81c.8-.78.8-2.07 0-2.86zM5.41 20L4 18.59l7.72-7.72 1.47 1.35L5.41 20z\"/>\n",
              "  </svg>\n",
              "      </button>\n",
              "      \n",
              "  <style>\n",
              "    .colab-df-container {\n",
              "      display:flex;\n",
              "      flex-wrap:wrap;\n",
              "      gap: 12px;\n",
              "    }\n",
              "\n",
              "    .colab-df-convert {\n",
              "      background-color: #E8F0FE;\n",
              "      border: none;\n",
              "      border-radius: 50%;\n",
              "      cursor: pointer;\n",
              "      display: none;\n",
              "      fill: #1967D2;\n",
              "      height: 32px;\n",
              "      padding: 0 0 0 0;\n",
              "      width: 32px;\n",
              "    }\n",
              "\n",
              "    .colab-df-convert:hover {\n",
              "      background-color: #E2EBFA;\n",
              "      box-shadow: 0px 1px 2px rgba(60, 64, 67, 0.3), 0px 1px 3px 1px rgba(60, 64, 67, 0.15);\n",
              "      fill: #174EA6;\n",
              "    }\n",
              "\n",
              "    [theme=dark] .colab-df-convert {\n",
              "      background-color: #3B4455;\n",
              "      fill: #D2E3FC;\n",
              "    }\n",
              "\n",
              "    [theme=dark] .colab-df-convert:hover {\n",
              "      background-color: #434B5C;\n",
              "      box-shadow: 0px 1px 3px 1px rgba(0, 0, 0, 0.15);\n",
              "      filter: drop-shadow(0px 1px 2px rgba(0, 0, 0, 0.3));\n",
              "      fill: #FFFFFF;\n",
              "    }\n",
              "  </style>\n",
              "\n",
              "      <script>\n",
              "        const buttonEl =\n",
              "          document.querySelector('#df-e5d3b1bf-30f0-4930-aa3a-1b1e0eb04b32 button.colab-df-convert');\n",
              "        buttonEl.style.display =\n",
              "          google.colab.kernel.accessAllowed ? 'block' : 'none';\n",
              "\n",
              "        async function convertToInteractive(key) {\n",
              "          const element = document.querySelector('#df-e5d3b1bf-30f0-4930-aa3a-1b1e0eb04b32');\n",
              "          const dataTable =\n",
              "            await google.colab.kernel.invokeFunction('convertToInteractive',\n",
              "                                                     [key], {});\n",
              "          if (!dataTable) return;\n",
              "\n",
              "          const docLinkHtml = 'Like what you see? Visit the ' +\n",
              "            '<a target=\"_blank\" href=https://colab.research.google.com/notebooks/data_table.ipynb>data table notebook</a>'\n",
              "            + ' to learn more about interactive tables.';\n",
              "          element.innerHTML = '';\n",
              "          dataTable['output_type'] = 'display_data';\n",
              "          await google.colab.output.renderOutput(dataTable, element);\n",
              "          const docLink = document.createElement('div');\n",
              "          docLink.innerHTML = docLinkHtml;\n",
              "          element.appendChild(docLink);\n",
              "        }\n",
              "      </script>\n",
              "    </div>\n",
              "  </div>\n",
              "  "
            ]
          },
          "metadata": {},
          "execution_count": 9
        }
      ]
    },
    {
      "cell_type": "code",
      "source": [
        "df.isnull().sum()"
      ],
      "metadata": {
        "colab": {
          "base_uri": "https://localhost:8080/"
        },
        "id": "OmmYRTSDaZT9",
        "outputId": "d47a1f6f-e3de-4269-e55f-e11e1e95524a"
      },
      "execution_count": 10,
      "outputs": [
        {
          "output_type": "execute_result",
          "data": {
            "text/plain": [
              "id       0\n",
              "label    0\n",
              "tweet    0\n",
              "dtype: int64"
            ]
          },
          "metadata": {},
          "execution_count": 10
        }
      ]
    },
    {
      "cell_type": "code",
      "source": [
        "# Extract the Label Feature for Each Class\n",
        "hate_speech = df[df['label'] == 1].shape[0]\n",
        "free_speech = df[df['label'] == 0].shape[0]\n",
        "print('Hate Speech =', hate_speech)\n",
        "print('Free Speech =', free_speech)"
      ],
      "metadata": {
        "colab": {
          "base_uri": "https://localhost:8080/"
        },
        "id": "MNxlK451addj",
        "outputId": "1e436042-e435-4ed7-a144-411f3c82b3be"
      },
      "execution_count": 11,
      "outputs": [
        {
          "output_type": "stream",
          "name": "stdout",
          "text": [
            "Hate Speech = 2242\n",
            "Free Speech = 29720\n"
          ]
        }
      ]
    },
    {
      "cell_type": "code",
      "source": [
        "# Visualize the Label Class\n",
        "speech = [hate_speech, free_speech]\n",
        "label = [\"Hate Speech\", \"Free Speech\"]\n",
        "\n",
        "plt.pie(speech, labels = label, shadow = True, wedgeprops = {'edgecolor': 'black'},\n",
        "        autopct = '%1.1f%%', startangle= 90, colors=['Black', 'blue'])\n",
        "\n",
        "plt.tight_layout()\n",
        "plt.show()"
      ],
      "metadata": {
        "colab": {
          "base_uri": "https://localhost:8080/",
          "height": 487
        },
        "id": "_Z0aDtibafTQ",
        "outputId": "08d79841-71b2-49d2-e0d1-9d6a5b6dfa64"
      },
      "execution_count": 12,
      "outputs": [
        {
          "output_type": "display_data",
          "data": {
            "text/plain": [
              "<Figure size 640x480 with 1 Axes>"
            ],
            "image/png": "[encoded data removed]"
          },
          "metadata": {}
        }
      ]
    },
    {
      "cell_type": "markdown",
      "source": [
        "PART 2 : Data Preprocessing"
      ],
      "metadata": {
        "id": "twovexLXavnh"
      }
    },
    {
      "cell_type": "markdown",
      "source": [
        "2.1: Text Cleaning\n",
        "2.1.1: Lower Case"
      ],
      "metadata": {
        "id": "NMCBPn7Tnw7N"
      }
    },
    {
      "cell_type": "code",
      "source": [
        "def lower_case(text):\n",
        "    return text.lower()\n",
        "\n",
        "df['tweet'] = df['tweet'].apply(lower_case)"
      ],
      "metadata": {
        "id": "8bwP8NcSar15"
      },
      "execution_count": 13,
      "outputs": []
    },
    {
      "cell_type": "markdown",
      "source": [
        "2.1.2: Remove Punctuation"
      ],
      "metadata": {
        "id": "jGaF_HCXnzOp"
      }
    },
    {
      "cell_type": "code",
      "source": [
        "def remove_punct(text):\n",
        "    return text.translate(str.maketrans('','',string.punctuation))\n",
        "\n",
        "df['tweet'] = df['tweet'].apply(remove_punct)"
      ],
      "metadata": {
        "id": "hfhAmjwPnna-"
      },
      "execution_count": 14,
      "outputs": []
    },
    {
      "cell_type": "markdown",
      "source": [
        "2.1.3: Remove URLs\n"
      ],
      "metadata": {
        "id": "8XvinahKn0-0"
      }
    },
    {
      "cell_type": "code",
      "source": [
        "def remove_punct(text):\n",
        "    return text.translate(str.maketrans('','',string.punctuation))\n",
        "\n",
        "df['tweet'] = df['tweet'].apply(remove_punct)"
      ],
      "metadata": {
        "id": "y4r3cY72nqGK"
      },
      "execution_count": 15,
      "outputs": []
    },
    {
      "cell_type": "markdown",
      "source": [
        "2.1.4: Removing @tags"
      ],
      "metadata": {
        "id": "IqvI-44mn_gN"
      }
    },
    {
      "cell_type": "code",
      "source": [
        "def remove_tag(text):\n",
        "    newtext= re.sub(r'(@[A-Za-z0-9]+)',\"\",text)\n",
        "    return newtext\n",
        "\n",
        "df['tweet'] = df['tweet'].apply(remove_tag)"
      ],
      "metadata": {
        "id": "un6_N8Trnr5B"
      },
      "execution_count": 16,
      "outputs": []
    },
    {
      "cell_type": "markdown",
      "source": [
        "2.1.5: Remove Special Characters\n"
      ],
      "metadata": {
        "id": "XfVMwZUpn6iq"
      }
    },
    {
      "cell_type": "code",
      "source": [
        "def remove_special(text):\n",
        "    return \" \".join(e for e in text.split() if e.isalnum())\n",
        "\n",
        "df['tweet'] = df['tweet'].apply(remove_special)"
      ],
      "metadata": {
        "id": "83t-7g-4nsax"
      },
      "execution_count": 17,
      "outputs": []
    },
    {
      "cell_type": "markdown",
      "source": [
        "2.2 : Preprocessing Operations"
      ],
      "metadata": {
        "id": "sM_8Bh8Ps0WY"
      }
    },
    {
      "cell_type": "markdown",
      "source": [
        "2.2.1: Tokenizing\n"
      ],
      "metadata": {
        "id": "mpefTVSRtD0y"
      }
    },
    {
      "cell_type": "code",
      "source": [
        "from nltk.tokenize import sent_tokenize, word_tokenize"
      ],
      "metadata": {
        "id": "1RssgQzltKEC"
      },
      "execution_count": 18,
      "outputs": []
    },
    {
      "cell_type": "code",
      "source": [
        "import nltk\n",
        "nltk.download('punkt')\n",
        "from nltk.corpus import stopwords\n",
        "from nltk.stem import WordNetLemmatizer\n",
        "from nltk.tokenize import word_tokenize\n",
        "from wordcloud import WordCloud, STOPWORDS\n",
        "import matplotlib.pyplot as plt"
      ],
      "metadata": {
        "colab": {
          "base_uri": "https://localhost:8080/"
        },
        "id": "H5sMau4-vj_z",
        "outputId": "5e3be50f-ceef-4b36-a7f6-bbb01decfe9a"
      },
      "execution_count": 19,
      "outputs": [
        {
          "output_type": "stream",
          "name": "stderr",
          "text": [
            "[nltk_data] Downloading package punkt to /root/nltk_data...\n",
            "[nltk_data]   Package punkt is already up-to-date!\n"
          ]
        }
      ]
    },
    {
      "cell_type": "code",
      "source": [
        "def preprocess_text(text):\n",
        "    tokens = word_tokenize(text)\n",
        "    tokens = [token for token in tokens if not token in stopwords.words('english')]\n",
        "    word_lem = WordNetLemmatizer()\n",
        "    tokens = [word_lem.lemmatize(token) for token in tokens]\n",
        "    return tokens"
      ],
      "metadata": {
        "id": "w51jjrvuvmuj"
      },
      "execution_count": 20,
      "outputs": []
    },
    {
      "cell_type": "code",
      "source": [
        "def generate_wordcloud(df, label):\n",
        "    text = ' '.join(df[df['label'] == label]['tweet'].apply(str))\n",
        "    tokens = preprocess_text(text)\n",
        "    comment_words = ' '.join(tokens)\n",
        "    stopwords = set(STOPWORDS)\n",
        "    wordcloud = WordCloud(width=800, height=800,\n",
        "                          background_color='white',\n",
        "                          stopwords=stopwords,\n",
        "                          min_font_size=10).generate(comment_words)\n",
        "    plt.figure(figsize=(8, 8), facecolor=None)\n",
        "    plt.imshow(wordcloud)\n",
        "    plt.axis(\"off\")\n",
        "    plt.tight_layout(pad=0)\n",
        "    plt.show()\n",
        "\n",
        "\n"
      ],
      "metadata": {
        "id": "ZXPVBRV_vo00"
      },
      "execution_count": 21,
      "outputs": []
    },
    {
      "cell_type": "code",
      "source": [
        "# import TF-IDF model from sklearn\n",
        "from sklearn.feature_extraction.text import TfidfVectorizer\n",
        "\n"
      ],
      "metadata": {
        "id": "UJwmnh2OxCY7"
      },
      "execution_count": 22,
      "outputs": []
    },
    {
      "cell_type": "code",
      "source": [
        "# init the TF-IDF model and take 5000 most frequent words from dictionaries\n",
        "vectorizer = TfidfVectorizer(max_features= 2000)"
      ],
      "metadata": {
        "id": "413DKr2Txx3s"
      },
      "execution_count": 23,
      "outputs": []
    },
    {
      "cell_type": "code",
      "source": [
        "# remove the list inside tweet cols which was create due to tokenization\n",
        "list_to_str = []\n",
        "for lists in df['tweet']:\n",
        "    list_to_str.append(' '.join(map(str, lists)))\n",
        "\n",
        "df['tweet'] = list_to_str"
      ],
      "metadata": {
        "id": "mMeaHUC5xzfl"
      },
      "execution_count": 24,
      "outputs": []
    },
    {
      "cell_type": "code",
      "source": [
        "# Shape of predictor after Feature Engineering\n",
        "text.shape"
      ],
      "metadata": {
        "colab": {
          "base_uri": "https://localhost:8080/"
        },
        "id": "r1if-xihy4NA",
        "outputId": "f6560087-08df-4cae-919a-e1e4915d645b"
      },
      "execution_count": 25,
      "outputs": [
        {
          "output_type": "execute_result",
          "data": {
            "text/plain": [
              "(31962, 2)"
            ]
          },
          "metadata": {},
          "execution_count": 25
        }
      ]
    },
    {
      "cell_type": "code",
      "source": [
        "from sklearn.model_selection import train_test_split\n"
      ],
      "metadata": {
        "id": "O-uI9z6ly5h6"
      },
      "execution_count": 26,
      "outputs": []
    },
    {
      "cell_type": "code",
      "source": [
        "from sklearn.model_selection import train_test_split\n",
        "\n",
        "label = df.iloc[:, 0]\n",
        "X_train, X_test, y_train, y_test = train_test_split(text, label, test_size=0.2, random_state=0)\n",
        "\n",
        "print(\"X_train shape:\", X_train.shape)\n",
        "print(\"y_train shape:\", y_train.shape)\n",
        "print(\"X_test shape:\", X_test.shape)\n",
        "print(\"y_test shape:\", y_test.shape)\n"
      ],
      "metadata": {
        "colab": {
          "base_uri": "https://localhost:8080/"
        },
        "id": "0QcRQkugzUDO",
        "outputId": "43adcf21-3e5c-43b1-b7fe-58a0ed3d8820"
      },
      "execution_count": 27,
      "outputs": [
        {
          "output_type": "stream",
          "name": "stdout",
          "text": [
            "X_train shape: (25569, 2)\n",
            "y_train shape: (25569,)\n",
            "X_test shape: (6393, 2)\n",
            "y_test shape: (6393,)\n"
          ]
        }
      ]
    },
    {
      "cell_type": "markdown",
      "source": [
        "Building the CNN with LSTM"
      ],
      "metadata": {
        "id": "cqn5OFAA8zW2"
      }
    },
    {
      "cell_type": "markdown",
      "source": [
        "3.1 : Convolutional Neural Netowrk with Long Short Term Memory"
      ],
      "metadata": {
        "id": "Qy43jRJP833h"
      }
    },
    {
      "cell_type": "markdown",
      "source": [
        "3.1.1: Importing the Keras libraries and packages"
      ],
      "metadata": {
        "id": "vjlI6Mx186gl"
      }
    },
    {
      "cell_type": "code",
      "source": [
        "from tensorflow.keras import backend as K\n",
        "from tensorflow.keras.layers import Dense, SimpleRNN, LSTM, Bidirectional, TimeDistributed, Conv1D, ZeroPadding1D, GRU\n",
        "from tensorflow.keras.layers import Lambda, Input, Dropout, Masking, BatchNormalization, Activation\n",
        "from tensorflow.keras.optimizers import Adam, SGD\n",
        "from tensorflow.keras.callbacks import TensorBoard\n",
        "from tensorflow.keras.models import Model"
      ],
      "metadata": {
        "id": "lF5UHy1s8-Ok"
      },
      "execution_count": 28,
      "outputs": []
    },
    {
      "cell_type": "markdown",
      "source": [
        "3.1.2: Build the Model\n",
        "3.1.3: Compile the Model\n",
        "3.1.4: Fit the Training Data into Model"
      ],
      "metadata": {
        "id": "7z9I6L-w9DVf"
      }
    },
    {
      "cell_type": "code",
      "source": [
        "import numpy as np\n",
        "from tensorflow.keras.layers import Input, Conv1D, BatchNormalization, Activation, LSTM, Dense, Dropout\n",
        "from tensorflow.keras.models import Model\n",
        "from tensorflow.keras.optimizers import Adam\n",
        "\n",
        "def cnn_lstm(input_dim, output_dim, dropout=0.2, n_layers=1):\n",
        "    dtype = 'float32'\n",
        "\n",
        "    input_data = Input(name='the_input', shape=input_dim, dtype=dtype)\n",
        "\n",
        "    x = Conv1D(filters=256, kernel_size=10, strides=4, name='conv_1')(input_data)\n",
        "    x = BatchNormalization()(x)\n",
        "    x = Activation('relu')(x)\n",
        "    x = Dropout(dropout, name='dropout_1')(x)\n",
        "\n",
        "    x = LSTM(128, activation='relu', return_sequences=True,\n",
        "             dropout=dropout, name='lstm_1')(x)\n",
        "    x = LSTM(128, activation='relu', return_sequences=False,\n",
        "             dropout=dropout, name='lstm_2')(x)\n",
        "\n",
        "    x = Dense(units=64, activation='relu', name='fc')(x)\n",
        "    x = Dropout(dropout, name='dropout_2')(x)\n",
        "\n",
        "    y_pred = Dense(units=output_dim, activation='sigmoid', name='sigmoid')(x)\n",
        "\n",
        "    network_model = Model(inputs=input_data, outputs=y_pred)\n",
        "\n",
        "    return network_model\n",
        "\n",
        "# Example usage\n",
        "X_train = np.random.rand(100, 10)  # Example input data with shape (100, 10)\n",
        "y_train = np.random.randint(0, 2, size=(100, 1))  # Example train output data with shape (100, 1)\n",
        "X_test = np.random.rand(20, 10)  # Example test input data with shape (20, 10)\n",
        "y_test = np.random.randint(0, 2, size=(20, 1))  # Example test output data with shape (20, 1)\n",
        "\n",
        "model = cnn_lstm((X_train.shape[1], 1), 1)  # Reshape input shape to (10, 1)\n",
        "\n",
        "# Print model summary\n",
        "model.summary()\n",
        "\n",
        "# Create instance of Adam optimizer\n",
        "optimizer = Adam()\n",
        "\n",
        "# Update activation function and loss function\n",
        "model.compile(loss='binary_crossentropy', optimizer=optimizer, metrics=['accuracy'])\n",
        "\n",
        "# Train the model\n",
        "model.fit(\n",
        "    X_train, y_train,\n",
        "    batch_size=128,\n",
        "    epochs=25,\n",
        "    validation_data=(X_test, y_test),\n",
        ")\n"
      ],
      "metadata": {
        "colab": {
          "base_uri": "https://localhost:8080/"
        },
        "id": "751K5FQ19rmh",
        "outputId": "07f03e41-1412-4013-9b3e-ba9c1c32a088"
      },
      "execution_count": 29,
      "outputs": [
        {
          "output_type": "stream",
          "name": "stdout",
          "text": [
            "Model: \"model\"\n",
            "_________________________________________________________________\n",
            " Layer (type)                Output Shape              Param #   \n",
            "=================================================================\n",
            " the_input (InputLayer)      [(None, 10, 1)]           0         \n",
            "                                                                 \n",
            " conv_1 (Conv1D)             (None, 1, 256)            2816      \n",
            "                                                                 \n",
            " batch_normalization (BatchN  (None, 1, 256)           1024      \n",
            " ormalization)                                                   \n",
            "                                                                 \n",
            " activation (Activation)     (None, 1, 256)            0         \n",
            "                                                                 \n",
            " dropout_1 (Dropout)         (None, 1, 256)            0         \n",
            "                                                                 \n",
            " lstm_1 (LSTM)               (None, 1, 128)            197120    \n",
            "                                                                 \n",
            " lstm_2 (LSTM)               (None, 128)               131584    \n",
            "                                                                 \n",
            " fc (Dense)                  (None, 64)                8256      \n",
            "                                                                 \n",
            " dropout_2 (Dropout)         (None, 64)                0         \n",
            "                                                                 \n",
            " sigmoid (Dense)             (None, 1)                 65        \n",
            "                                                                 \n",
            "=================================================================\n",
            "Total params: 340,865\n",
            "Trainable params: 340,353\n",
            "Non-trainable params: 512\n",
            "_________________________________________________________________\n",
            "Epoch 1/25\n",
            "1/1 [==============================] - 11s 11s/step - loss: 0.6943 - accuracy: 0.4200 - val_loss: 0.6929 - val_accuracy: 0.5500\n",
            "Epoch 2/25\n",
            "1/1 [==============================] - 0s 117ms/step - loss: 0.6916 - accuracy: 0.5700 - val_loss: 0.6927 - val_accuracy: 0.5500\n",
            "Epoch 3/25\n",
            "1/1 [==============================] - 0s 134ms/step - loss: 0.6908 - accuracy: 0.5500 - val_loss: 0.6925 - val_accuracy: 0.5500\n",
            "Epoch 4/25\n",
            "1/1 [==============================] - 0s 133ms/step - loss: 0.6897 - accuracy: 0.5600 - val_loss: 0.6923 - val_accuracy: 0.5500\n",
            "Epoch 5/25\n",
            "1/1 [==============================] - 0s 163ms/step - loss: 0.6878 - accuracy: 0.5600 - val_loss: 0.6921 - val_accuracy: 0.5500\n",
            "Epoch 6/25\n",
            "1/1 [==============================] - 0s 115ms/step - loss: 0.6852 - accuracy: 0.5600 - val_loss: 0.6919 - val_accuracy: 0.5500\n",
            "Epoch 7/25\n",
            "1/1 [==============================] - 0s 137ms/step - loss: 0.6831 - accuracy: 0.5600 - val_loss: 0.6917 - val_accuracy: 0.5500\n",
            "Epoch 8/25\n",
            "1/1 [==============================] - 0s 112ms/step - loss: 0.6812 - accuracy: 0.5600 - val_loss: 0.6914 - val_accuracy: 0.5500\n",
            "Epoch 9/25\n",
            "1/1 [==============================] - 0s 226ms/step - loss: 0.6781 - accuracy: 0.5600 - val_loss: 0.6912 - val_accuracy: 0.5500\n",
            "Epoch 10/25\n",
            "1/1 [==============================] - 0s 107ms/step - loss: 0.6746 - accuracy: 0.5600 - val_loss: 0.6910 - val_accuracy: 0.5500\n",
            "Epoch 11/25\n",
            "1/1 [==============================] - 0s 117ms/step - loss: 0.6693 - accuracy: 0.5600 - val_loss: 0.6908 - val_accuracy: 0.5500\n",
            "Epoch 12/25\n",
            "1/1 [==============================] - 0s 79ms/step - loss: 0.6612 - accuracy: 0.5600 - val_loss: 0.6906 - val_accuracy: 0.5500\n",
            "Epoch 13/25\n",
            "1/1 [==============================] - 0s 89ms/step - loss: 0.6568 - accuracy: 0.5600 - val_loss: 0.6905 - val_accuracy: 0.5500\n",
            "Epoch 14/25\n",
            "1/1 [==============================] - 0s 102ms/step - loss: 0.6467 - accuracy: 0.5600 - val_loss: 0.6903 - val_accuracy: 0.5500\n",
            "Epoch 15/25\n",
            "1/1 [==============================] - 0s 86ms/step - loss: 0.6345 - accuracy: 0.5600 - val_loss: 0.6902 - val_accuracy: 0.5500\n",
            "Epoch 16/25\n",
            "1/1 [==============================] - 0s 92ms/step - loss: 0.6161 - accuracy: 0.5600 - val_loss: 0.6901 - val_accuracy: 0.5500\n",
            "Epoch 17/25\n",
            "1/1 [==============================] - 0s 79ms/step - loss: 0.6129 - accuracy: 0.5800 - val_loss: 0.6901 - val_accuracy: 0.5500\n",
            "Epoch 18/25\n",
            "1/1 [==============================] - 0s 86ms/step - loss: 0.6044 - accuracy: 0.6200 - val_loss: 0.6902 - val_accuracy: 0.5500\n",
            "Epoch 19/25\n",
            "1/1 [==============================] - 0s 98ms/step - loss: 0.5885 - accuracy: 0.6100 - val_loss: 0.6904 - val_accuracy: 0.5500\n",
            "Epoch 20/25\n",
            "1/1 [==============================] - 0s 100ms/step - loss: 0.5750 - accuracy: 0.6200 - val_loss: 0.6907 - val_accuracy: 0.5500\n",
            "Epoch 21/25\n",
            "1/1 [==============================] - 0s 178ms/step - loss: 0.5746 - accuracy: 0.6300 - val_loss: 0.6911 - val_accuracy: 0.5500\n",
            "Epoch 22/25\n",
            "1/1 [==============================] - 0s 120ms/step - loss: 0.5420 - accuracy: 0.7000 - val_loss: 0.6916 - val_accuracy: 0.4500\n",
            "Epoch 23/25\n",
            "1/1 [==============================] - 0s 117ms/step - loss: 0.5609 - accuracy: 0.6900 - val_loss: 0.6922 - val_accuracy: 0.5000\n",
            "Epoch 24/25\n",
            "1/1 [==============================] - 0s 94ms/step - loss: 0.5383 - accuracy: 0.7400 - val_loss: 0.6930 - val_accuracy: 0.5500\n",
            "Epoch 25/25\n",
            "1/1 [==============================] - 0s 108ms/step - loss: 0.5057 - accuracy: 0.7900 - val_loss: 0.6939 - val_accuracy: 0.5500\n"
          ]
        },
        {
          "output_type": "execute_result",
          "data": {
            "text/plain": [
              "<keras.callbacks.History at 0x7fbf489dece0>"
            ]
          },
          "metadata": {},
          "execution_count": 29
        }
      ]
    },
    {
      "cell_type": "markdown",
      "source": [
        "3.1.5: Predict the Train and Test Data"
      ],
      "metadata": {
        "id": "o8mk24Yt_ibP"
      }
    },
    {
      "cell_type": "code",
      "source": [
        "y_pred_train = model.predict(X_train)\n",
        "y_pred_test = model.predict(X_test)"
      ],
      "metadata": {
        "colab": {
          "base_uri": "https://localhost:8080/"
        },
        "id": "4C3xP-CV_e8n",
        "outputId": "92307269-6ad1-4fb7-db8f-ad7a88fca55e"
      },
      "execution_count": 30,
      "outputs": [
        {
          "output_type": "stream",
          "name": "stdout",
          "text": [
            "4/4 [==============================] - 1s 7ms/step\n",
            "1/1 [==============================] - 0s 95ms/step\n"
          ]
        }
      ]
    },
    {
      "cell_type": "markdown",
      "source": [
        "Part 4: Result Evaluation"
      ],
      "metadata": {
        "id": "s79Bn-vo16U3"
      }
    },
    {
      "cell_type": "markdown",
      "source": [
        "4.1: Confusion Matrix and Evaluate result"
      ],
      "metadata": {
        "id": "yzOVhzBy19T1"
      }
    },
    {
      "cell_type": "code",
      "source": [
        "from sklearn.metrics import confusion_matrix\n"
      ],
      "metadata": {
        "id": "SYli1MZH2BYe"
      },
      "execution_count": 31,
      "outputs": []
    },
    {
      "cell_type": "markdown",
      "source": [
        "4.1.1: Create and Visualize Confusion Matrix and calculate the result\n"
      ],
      "metadata": {
        "id": "J9CmdvFT1_Lr"
      }
    },
    {
      "cell_type": "code",
      "source": [
        "from sklearn.metrics import accuracy_score, precision_score, recall_score, f1_score, mean_absolute_error, roc_auc_score\n"
      ],
      "metadata": {
        "id": "20hcn8_-2p8H"
      },
      "execution_count": 34,
      "outputs": []
    },
    {
      "cell_type": "code",
      "source": [
        "import numpy as np\n",
        "import seaborn as sns\n",
        "import matplotlib.pyplot as plt\n",
        "from sklearn.metrics import confusion_matrix, accuracy_score, precision_score, recall_score, f1_score, mean_absolute_error, roc_auc_score\n",
        "\n",
        "# Example data\n",
        "y_test = np.array([0, 1, 1, 0, 1, 0])\n",
        "y_pred_test = np.array([0, 0, 1, 0, 1, 1])\n",
        "\n",
        "# Compute confusion matrix\n",
        "confusion_matrix = confusion_matrix(y_test, y_pred_test)\n",
        "\n",
        "# Extract values from confusion matrix\n",
        "TP = confusion_matrix[1, 1]\n",
        "TN = confusion_matrix[0, 0]\n",
        "FP = confusion_matrix[0, 1]\n",
        "FN = confusion_matrix[1, 0]\n",
        "\n",
        "# Accuracy Score\n",
        "Accuracy = accuracy_score(y_test, y_pred_test)\n",
        "print('Accuracy Score:', Accuracy)\n",
        "\n",
        "# Precision Score\n",
        "Precision = precision_score(y_test, y_pred_test)\n",
        "print('Precision Score:', Precision)\n",
        "\n",
        "# True positive Rate (TPR) or Sensitivity or Recall\n",
        "TPR = recall_score(y_test, y_pred_test)\n",
        "print('True positive Rate:', TPR)\n",
        "\n",
        "# False positive Rate (FPR)\n",
        "FPR = FP / float(TN + FP)\n",
        "print('False positive Rate:', FPR)\n",
        "\n",
        "# F1 Score or F-Measure or F-Score\n",
        "F1 = f1_score(y_test, y_pred_test)\n",
        "print('F1 Score:', F1)\n",
        "\n",
        "# Specificity\n",
        "Specificity = TN / (TN + FP)\n",
        "print('Specificity:', Specificity)\n",
        "\n",
        "# Mean Absolute Error\n",
        "Error = mean_absolute_error(y_test, y_pred_test)\n",
        "print('Mean Absolute Error:', Error)\n",
        "\n",
        "# ROC Area\n",
        "Roc = roc_auc_score(y_test, y_pred_test)\n",
        "print('ROC Area:', Roc)\n",
        "\n",
        "# Visualize the Confusion Matrix\n",
        "group_names = ['TN', 'FP', 'FN', 'TP']\n",
        "group_counts = [\"{0:0.0f}\".format(value) for value in confusion_matrix.flatten()]\n",
        "group_percentages = [\"{0:.2%}\".format(value) for value in confusion_matrix.flatten() / np.sum(confusion_matrix)]\n",
        "labels = [f\"{v1}\\n{v2}\\n{v3}\" for v1, v2, v3 in zip(group_names, group_counts, group_percentages)]\n",
        "labels = np.asarray(labels).reshape(2, 2)\n",
        "\n",
        "sns.heatmap(confusion_matrix, annot=labels, fmt='', cmap='Blues')\n",
        "plt.xlabel(\"Predicted\")\n",
        "plt.ylabel(\"Actual\")\n",
        "plt.title(\"Confusion Matrix\")\n",
        "plt.xticks([0.5, 1.5], ['Negative', 'Positive'])\n",
        "plt.yticks([0.5, 1.5], ['Negative', 'Positive'])\n",
        "plt.show()\n"
      ],
      "metadata": {
        "colab": {
          "base_uri": "https://localhost:8080/",
          "height": 611
        },
        "id": "nKjrt1VQ2tib",
        "outputId": "28971dc6-4dd3-4d1e-e34c-58ab60ed6ebb"
      },
      "execution_count": 36,
      "outputs": [
        {
          "output_type": "stream",
          "name": "stdout",
          "text": [
            "Accuracy Score: 0.6666666666666666\n",
            "Precision Score: 0.6666666666666666\n",
            "True positive Rate: 0.6666666666666666\n",
            "False positive Rate: 0.3333333333333333\n",
            "F1 Score: 0.6666666666666666\n",
            "Specificity: 0.6666666666666666\n",
            "Mean Absolute Error: 0.3333333333333333\n",
            "ROC Area: 0.6666666666666667\n"
          ]
        },
        {
          "output_type": "display_data",
          "data": {
            "text/plain": [
              "<Figure size 640x480 with 2 Axes>"
            ],
            "image/png": "[encoded data removed]"
          },
          "metadata": {}
        }
      ]
    },
    {
      "cell_type": "markdown",
      "source": [
        "4.1.2: Visualize the Results"
      ],
      "metadata": {
        "id": "4OqWT8dO3xnS"
      }
    },
    {
      "cell_type": "code",
      "source": [
        "plt.figure(figsize = (12, 5))\n",
        "\n",
        "result = [Accuracy, Precision, TPR, FPR, F1, Specificity, Error, Roc]\n",
        "label = [\"Accuracy\", \"Precision\", \"TPR\", \"FPR\", \"F-Score\", \"Specificity\", \"Error\", \"Roc Area\"]\n",
        "colors=[ 'red', 'green', 'blue', 'darkgoldenrod', 'orange', 'purple', 'brown', 'darkcyan']\n",
        "\n",
        "plt.bar(label, result, color = colors, edgecolor='black')\n",
        "plt.show()"
      ],
      "metadata": {
        "colab": {
          "base_uri": "https://localhost:8080/",
          "height": 451
        },
        "id": "C2BJEYlY3tGj",
        "outputId": "b26595b7-ea66-4d1b-fa59-4f75371b07bb"
      },
      "execution_count": 37,
      "outputs": [
        {
          "output_type": "display_data",
          "data": {
            "text/plain": [
              "<Figure size 1200x500 with 1 Axes>"
            ],
            "image/png": "[encoded data removed]"
          },
          "metadata": {}
        }
      ]
    },
    {
      "cell_type": "markdown",
      "source": [
        "Part 5 : Make a New Prediction"
      ],
      "metadata": {
        "id": "dsWvBbaK320U"
      }
    },
    {
      "cell_type": "markdown",
      "source": [
        "5.1: Save the TF-IDF Vectorizer and SVM Model"
      ],
      "metadata": {
        "id": "A8Yq7yOa36xI"
      }
    },
    {
      "cell_type": "code",
      "source": [
        "import pickle"
      ],
      "metadata": {
        "id": "kVqLWoCA4CmZ"
      },
      "execution_count": 38,
      "outputs": []
    },
    {
      "cell_type": "markdown",
      "source": [
        "5.1.2: Save the Vectorizer"
      ],
      "metadata": {
        "id": "0rPEwmg95ker"
      }
    },
    {
      "cell_type": "code",
      "source": [
        "TF_IDF= open(\"cv.pkl\",\"wb\")\n",
        "pickle.dump(vectorizer,TF_IDF)\n",
        "TF_IDF.close()"
      ],
      "metadata": {
        "id": "x7_i6G9u4DYq"
      },
      "execution_count": 39,
      "outputs": []
    },
    {
      "cell_type": "markdown",
      "source": [
        "5.1.3: Save the model"
      ],
      "metadata": {
        "id": "lCIqrSsQ5lUt"
      }
    },
    {
      "cell_type": "code",
      "source": [
        "cnn_lstm = open(\"model.pkl\",\"wb\")\n",
        "pickle.dump(model,cnn_lstm)\n",
        "cnn_lstm.close()"
      ],
      "metadata": {
        "id": "nJeWukAL4F4Y"
      },
      "execution_count": 40,
      "outputs": []
    },
    {
      "cell_type": "markdown",
      "source": [
        "5.2: Load the Vectorizer and Model\n",
        "5.2.1: Load the Vectorizer"
      ],
      "metadata": {
        "id": "yQpp-A925phZ"
      }
    },
    {
      "cell_type": "code",
      "source": [
        "cv = open(\"cv.pkl\",\"rb\")\n",
        "cv = pickle.load(cv)\n",
        "cv"
      ],
      "metadata": {
        "colab": {
          "base_uri": "https://localhost:8080/",
          "height": 74
        },
        "id": "LV5PIcKm4JIl",
        "outputId": "57793f25-4b13-4543-851b-4715ddb7ae97"
      },
      "execution_count": 41,
      "outputs": [
        {
          "output_type": "execute_result",
          "data": {
            "text/plain": [
              "TfidfVectorizer(max_features=2000)"
            ],
            "text/html": [
              "<style>#sk-container-id-1 {color: black;background-color: white;}#sk-container-id-1 pre{padding: 0;}#sk-container-id-1 div.sk-toggleable {background-color: white;}#sk-container-id-1 label.sk-toggleable__label {cursor: pointer;display: block;width: 100%;margin-bottom: 0;padding: 0.3em;box-sizing: border-box;text-align: center;}#sk-container-id-1 label.sk-toggleable__label-arrow:before {content: \"▸\";float: left;margin-right: 0.25em;color: #696969;}#sk-container-id-1 label.sk-toggleable__label-arrow:hover:before {color: black;}#sk-container-id-1 div.sk-estimator:hover label.sk-toggleable__label-arrow:before {color: black;}#sk-container-id-1 div.sk-toggleable__content {max-height: 0;max-width: 0;overflow: hidden;text-align: left;background-color: #f0f8ff;}#sk-container-id-1 div.sk-toggleable__content pre {margin: 0.2em;color: black;border-radius: 0.25em;background-color: #f0f8ff;}#sk-container-id-1 input.sk-toggleable__control:checked~div.sk-toggleable__content {max-height: 200px;max-width: 100%;overflow: auto;}#sk-container-id-1 input.sk-toggleable__control:checked~label.sk-toggleable__label-arrow:before {content: \"▾\";}#sk-container-id-1 div.sk-estimator input.sk-toggleable__control:checked~label.sk-toggleable__label {background-color: #d4ebff;}#sk-container-id-1 div.sk-label input.sk-toggleable__control:checked~label.sk-toggleable__label {background-color: #d4ebff;}#sk-container-id-1 input.sk-hidden--visually {border: 0;clip: rect(1px 1px 1px 1px);clip: rect(1px, 1px, 1px, 1px);height: 1px;margin: -1px;overflow: hidden;padding: 0;position: absolute;width: 1px;}#sk-container-id-1 div.sk-estimator {font-family: monospace;background-color: #f0f8ff;border: 1px dotted black;border-radius: 0.25em;box-sizing: border-box;margin-bottom: 0.5em;}#sk-container-id-1 div.sk-estimator:hover {background-color: #d4ebff;}#sk-container-id-1 div.sk-parallel-item::after {content: \"\";width: 100%;border-bottom: 1px solid gray;flex-grow: 1;}#sk-container-id-1 div.sk-label:hover label.sk-toggleable__label {background-color: #d4ebff;}#sk-container-id-1 div.sk-serial::before {content: \"\";position: absolute;border-left: 1px solid gray;box-sizing: border-box;top: 0;bottom: 0;left: 50%;z-index: 0;}#sk-container-id-1 div.sk-serial {display: flex;flex-direction: column;align-items: center;background-color: white;padding-right: 0.2em;padding-left: 0.2em;position: relative;}#sk-container-id-1 div.sk-item {position: relative;z-index: 1;}#sk-container-id-1 div.sk-parallel {display: flex;align-items: stretch;justify-content: center;background-color: white;position: relative;}#sk-container-id-1 div.sk-item::before, #sk-container-id-1 div.sk-parallel-item::before {content: \"\";position: absolute;border-left: 1px solid gray;box-sizing: border-box;top: 0;bottom: 0;left: 50%;z-index: -1;}#sk-container-id-1 div.sk-parallel-item {display: flex;flex-direction: column;z-index: 1;position: relative;background-color: white;}#sk-container-id-1 div.sk-parallel-item:first-child::after {align-self: flex-end;width: 50%;}#sk-container-id-1 div.sk-parallel-item:last-child::after {align-self: flex-start;width: 50%;}#sk-container-id-1 div.sk-parallel-item:only-child::after {width: 0;}#sk-container-id-1 div.sk-dashed-wrapped {border: 1px dashed gray;margin: 0 0.4em 0.5em 0.4em;box-sizing: border-box;padding-bottom: 0.4em;background-color: white;}#sk-container-id-1 div.sk-label label {font-family: monospace;font-weight: bold;display: inline-block;line-height: 1.2em;}#sk-container-id-1 div.sk-label-container {text-align: center;}#sk-container-id-1 div.sk-container {/* jupyter's `normalize.less` sets `[hidden] { display: none; }` but bootstrap.min.css set `[hidden] { display: none !important; }` so we also need the `!important` here to be able to override the default hidden behavior on the sphinx rendered scikit-learn.org. See: https://github.com/scikit-learn/scikit-learn/issues/21755 */display: inline-block !important;position: relative;}#sk-container-id-1 div.sk-text-repr-fallback {display: none;}</style><div id=\"sk-container-id-1\" class=\"sk-top-container\"><div class=\"sk-text-repr-fallback\"><pre>TfidfVectorizer(max_features=2000)</pre><b>In a Jupyter environment, please rerun this cell to show the HTML representation or trust the notebook. <br />On GitHub, the HTML representation is unable to render, please try loading this page with nbviewer.org.</b></div><div class=\"sk-container\" hidden><div class=\"sk-item\"><div class=\"sk-estimator sk-toggleable\"><input class=\"sk-toggleable__control sk-hidden--visually\" id=\"sk-estimator-id-1\" type=\"checkbox\" checked><label for=\"sk-estimator-id-1\" class=\"sk-toggleable__label sk-toggleable__label-arrow\">TfidfVectorizer</label><div class=\"sk-toggleable__content\"><pre>TfidfVectorizer(max_features=2000)</pre></div></div></div></div></div>"
            ]
          },
          "metadata": {},
          "execution_count": 41
        }
      ]
    },
    {
      "cell_type": "markdown",
      "source": [
        "5.2.2: Load the Model"
      ],
      "metadata": {
        "id": "-eDTd_gp5r--"
      }
    },
    {
      "cell_type": "code",
      "source": [
        "model = open(\"model.pkl\",\"rb\")\n",
        "model = pickle.load(model)"
      ],
      "metadata": {
        "id": "yoX5FZS64J-e"
      },
      "execution_count": 42,
      "outputs": []
    },
    {
      "cell_type": "markdown",
      "source": [
        "5.3: Make a new Prediction\n",
        "5.3.1 hate Speech prediction example"
      ],
      "metadata": {
        "id": "SDhKBb7L5smZ"
      }
    },
    {
      "cell_type": "code",
      "source": [
        "from sklearn.feature_extraction.text import TfidfVectorizer\n",
        "import numpy as np\n",
        "\n",
        "# Positive News example\n",
        "comment = [\"I support racism. I don't care\"]\n",
        "\n",
        "# Convert X_train elements to strings if they are not already strings\n",
        "X_train_strings = [str(x) for x in X_train]\n",
        "\n",
        "# Fit the TF-IDF vectorizer with your training data (assuming you have a variable called `X_train_strings` that contains your training text data)\n",
        "cv = TfidfVectorizer(max_features=10)  # Limit maximum features to 10\n",
        "cv.fit(X_train_strings)\n",
        "\n",
        "# Transform the comment using the fitted vectorizer\n",
        "vect = cv.transform(comment).toarray()\n",
        "\n",
        "# Reshape the vect array to match the expected input shape of the model\n",
        "vect = np.expand_dims(vect, axis=-1)\n",
        "\n",
        "# Predict the class label using the model\n",
        "prediction = model.predict(vect)\n",
        "\n",
        "# Check the prediction and print the result\n",
        "if prediction == 1:\n",
        "    print(\"free Speech\")\n",
        "else:\n",
        "    print(\"hate Speech\")\n"
      ],
      "metadata": {
        "colab": {
          "base_uri": "https://localhost:8080/"
        },
        "id": "IEeZ5XpR4MO8",
        "outputId": "8ebde748-97ec-45f2-d481-ad5247792493"
      },
      "execution_count": 49,
      "outputs": [
        {
          "output_type": "stream",
          "name": "stdout",
          "text": [
            "1/1 [==============================] - 0s 41ms/step\n",
            "hate Speech\n"
          ]
        }
      ]
    },
    {
      "cell_type": "markdown",
      "source": [
        "5.3.2 free Speech prediction example"
      ],
      "metadata": {
        "id": "LEpY5oRi5xHo"
      }
    },
    {
      "cell_type": "code",
      "source": [
        "# Positive News example\n",
        "comment = [\"I respect all kinds of nationalities\"]\n",
        "\n",
        "# Transform the comment using the fitted vectorizer\n",
        "vect = cv.transform(comment).toarray()\n",
        "\n",
        "# Reshape the vect array to match the expected input shape of the model\n",
        "vect = np.expand_dims(vect, axis=-1)\n",
        "\n",
        "# Predict the class label using the model\n",
        "prediction = model.predict(vect)\n",
        "\n",
        "# Check the prediction and print the result\n",
        "if prediction == 1:\n",
        "    print(\"Hate Speech\")\n",
        "else:\n",
        "    print(\"Free Speech\")\n"
      ],
      "metadata": {
        "colab": {
          "base_uri": "https://localhost:8080/"
        },
        "id": "OdLCneps4RMm",
        "outputId": "a67fe316-f1a7-4992-9b93-b40122980f8c"
      },
      "execution_count": 51,
      "outputs": [
        {
          "output_type": "stream",
          "name": "stdout",
          "text": [
            "1/1 [==============================] - 0s 43ms/step\n",
            "Free Speech\n"
          ]
        }
      ]
    }
  ]
}